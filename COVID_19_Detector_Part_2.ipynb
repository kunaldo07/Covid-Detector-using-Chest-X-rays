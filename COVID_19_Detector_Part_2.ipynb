{
  "nbformat": 4,
  "nbformat_minor": 0,
  "metadata": {
    "colab": {
      "name": "COVID_19 Detector Part-2",
      "provenance": [],
      "collapsed_sections": []
    },
    "kernelspec": {
      "name": "python3",
      "display_name": "Python 3"
    },
    "language_info": {
      "name": "python"
    },
    "accelerator": "GPU"
  },
  "cells": [
    {
      "cell_type": "code",
      "metadata": {
        "id": "k9lOPlcjEBT9"
      },
      "source": [
        "#to download the dataset\n",
        "\n",
        "#!wget https://cb.lk/covid_19"
      ],
      "execution_count": null,
      "outputs": []
    },
    {
      "cell_type": "code",
      "metadata": {
        "colab": {
          "base_uri": "https://localhost:8080/"
        },
        "id": "J8be9U_XEhfz",
        "outputId": "6d44b6e2-82ea-4c54-d231-54492f075b0b"
      },
      "source": [
        "!unzip \"/content/Covid-Dataset.zip\""
      ],
      "execution_count": null,
      "outputs": [
        {
          "output_type": "stream",
          "text": [
            "Archive:  /content/Covid-Dataset.zip\n",
            "   creating: Test/Covid/\n",
            "  inflating: Test/Covid/1052b0fe.jpg  \n",
            "  inflating: Test/Covid/1141cc2b8b9cc394becce5d978b5a7_jumbo.jpeg  \n",
            "  inflating: Test/Covid/12941_2020_358_Fig1_HTML.jpg  \n",
            "  inflating: Test/Covid/1312A392-67A3-4EBF-9319-810CF6DA5EF6.jpeg  \n",
            "  inflating: Test/Covid/16660_1_1.jpg  \n",
            "  inflating: Test/Covid/16660_2_1.jpg  \n",
            "  inflating: Test/Covid/16660_3_1.jpg  \n",
            "  inflating: Test/Covid/16660_4_1.jpg  \n",
            "  inflating: Test/Covid/16660_5_1.jpg  \n",
            "  inflating: Test/Covid/16663_1_1.jpg  \n",
            "  inflating: Test/Covid/16664_1_1.jpg  \n",
            "  inflating: Test/Covid/16669_3_1.jpeg  \n",
            "  inflating: Test/Covid/16672_1_1.jpg  \n",
            "  inflating: Test/Covid/16708_1_1.jpg  \n",
            "  inflating: Test/Covid/16708_4_1.jpg  \n",
            "  inflating: Test/Covid/16708_5_1.jpg  \n",
            "  inflating: Test/Covid/16745_5_1.png  \n",
            "  inflating: Test/Covid/16747_1_1.jpg  \n",
            "  inflating: Test/Covid/16865_1_1.jpg  \n",
            "  inflating: Test/Covid/16953_3_1.jpg  \n",
            "  inflating: Test/Covid/16953_4_1.jpg  \n",
            "  inflating: Test/Covid/16953_5_1.jpg  \n",
            "  inflating: Test/Covid/2168a917.jpg  \n",
            "  inflating: Test/Covid/2966893D-5DDF-4B68-9E2B-4979D5956C8E.jpeg  \n",
            "  inflating: Test/Covid/353889E0-A1E8-4F9E-A0B8-F24F36BCFBFB.jpeg  \n",
            "  inflating: Test/Covid/40779_2020_233_Fig2_HTML-a.png  \n",
            "  inflating: Test/Covid/41182_2020_203_Fig3_HTML.jpg  \n",
            "  inflating: Test/Covid/41182_2020_203_Fig4_HTML.jpg  \n",
            "  inflating: Test/Covid/41182_2020_203_Fig5_HTML.jpg  \n",
            "  inflating: Test/Covid/41379_2020_536_Fig2_HTML-c1.png  \n",
            "  inflating: Test/Covid/41591_2020_819_Fig1_HTML.webp-day10.png  \n",
            "  inflating: Test/Covid/41591_2020_819_Fig1_HTML.webp-day5.png  \n",
            "  inflating: Test/Covid/441c9cdd.jpg  \n",
            "  inflating: Test/Covid/5782ae15.jpg  \n",
            "  inflating: Test/Covid/80446565-E090-4187-A031-9D3CEAA586C8.jpeg  \n",
            "  inflating: Test/Covid/90986ce4.jpg  \n",
            "  inflating: Test/Covid/a2eba651.jpg  \n",
            "  inflating: Test/Covid/a361d7b7.jpg  \n",
            "  inflating: Test/Covid/a8ac1969.jpg  \n",
            "  inflating: Test/Covid/ac4f6e4e.jpg  \n",
            "   creating: Test/Normal/\n",
            "  inflating: Test/Normal/IM-0230-0001.jpeg  \n",
            "  inflating: Test/Normal/IM-0231-0001.jpeg  \n",
            "  inflating: Test/Normal/IM-0234-0001.jpeg  \n",
            "  inflating: Test/Normal/IM-0235-0001.jpeg  \n",
            "  inflating: Test/Normal/IM-0236-0001.jpeg  \n",
            "  inflating: Test/Normal/IM-0237-0001.jpeg  \n",
            "  inflating: Test/Normal/IM-0238-0001.jpeg  \n",
            "  inflating: Test/Normal/IM-0239-0001.jpeg  \n",
            "  inflating: Test/Normal/IM-0240-0001.jpeg  \n",
            "  inflating: Test/Normal/IM-0241-0001.jpeg  \n",
            "  inflating: Test/Normal/IM-0242-0001.jpeg  \n",
            "  inflating: Test/Normal/IM-0243-0001.jpeg  \n",
            "  inflating: Test/Normal/IM-0244-0001.jpeg  \n",
            "  inflating: Test/Normal/IM-0245-0001.jpeg  \n",
            "  inflating: Test/Normal/IM-0248-0001.jpeg  \n",
            "  inflating: Test/Normal/IM-0249-0001.jpeg  \n",
            "  inflating: Test/Normal/IM-0250-0001.jpeg  \n",
            "  inflating: Test/Normal/IM-0251-0001.jpeg  \n",
            "  inflating: Test/Normal/IM-0253-0001.jpeg  \n",
            "  inflating: Test/Normal/IM-0255-0001.jpeg  \n",
            "  inflating: Test/Normal/IM-0256-0001.jpeg  \n",
            "  inflating: Test/Normal/IM-0257-0001.jpeg  \n",
            "  inflating: Test/Normal/IM-0261-0001.jpeg  \n",
            "  inflating: Test/Normal/IM-0262-0001.jpeg  \n",
            "  inflating: Test/Normal/IM-0264-0001.jpeg  \n",
            "  inflating: Test/Normal/IM-0265-0001.jpeg  \n",
            "  inflating: Test/Normal/IM-0266-0001.jpeg  \n",
            "  inflating: Test/Normal/IM-0268-0001.jpeg  \n",
            "  inflating: Test/Normal/IM-0269-0001.jpeg  \n",
            "  inflating: Test/Normal/IM-0270-0001.jpeg  \n",
            "  inflating: Test/Normal/IM-0272-0001.jpeg  \n",
            "  inflating: Test/Normal/IM-0273-0001.jpeg  \n",
            "  inflating: Test/Normal/IM-0274-0001.jpeg  \n",
            "  inflating: Test/Normal/IM-0275-0001.jpeg  \n",
            "  inflating: Test/Normal/IM-0276-0001.jpeg  \n",
            "  inflating: Test/Normal/IM-0277-0001.jpeg  \n",
            "  inflating: Test/Normal/IM-0278-0001.jpeg  \n",
            "  inflating: Test/Normal/IM-0279-0001.jpeg  \n",
            "  inflating: Test/Normal/IM-0280-0001.jpeg  \n",
            "  inflating: Test/Normal/IM-0282-0001.jpeg  \n",
            "   creating: Train/Covid/\n",
            "  inflating: Train/Covid/01E392EE-69F9-4E33-BFCE-E5C968654078.jpeg  \n",
            "  inflating: Train/Covid/03BF7561-A9BA-4C3C-B8A0-D3E585F73F3C.jpeg  \n",
            "  inflating: Train/Covid/0a7faa2a.jpg  \n",
            "  inflating: Train/Covid/1.CXRCTThoraximagesofCOVID-19fromSingapore.pdf-000-fig1a.png  \n",
            "  inflating: Train/Covid/1.CXRCTThoraximagesofCOVID-19fromSingapore.pdf-000-fig1b.png  \n",
            "  inflating: Train/Covid/1.CXRCTThoraximagesofCOVID-19fromSingapore.pdf-001-fig2a.png  \n",
            "  inflating: Train/Covid/1.CXRCTThoraximagesofCOVID-19fromSingapore.pdf-001-fig2b.png  \n",
            "  inflating: Train/Covid/1.CXRCTThoraximagesofCOVID-19fromSingapore.pdf-002-fig3a.png  \n",
            "  inflating: Train/Covid/1.CXRCTThoraximagesofCOVID-19fromSingapore.pdf-002-fig3b.png  \n",
            "  inflating: Train/Covid/1.CXRCTThoraximagesofCOVID-19fromSingapore.pdf-003-fig4a.png  \n",
            "  inflating: Train/Covid/1.CXRCTThoraximagesofCOVID-19fromSingapore.pdf-003-fig4b.png  \n",
            "  inflating: Train/Covid/10.1016-slash-j.anl.2020.04.002-a.png  \n",
            "  inflating: Train/Covid/10.1016-slash-j.crad.2020.04.002-a.png  \n",
            "  inflating: Train/Covid/10.1016-slash-j.crad.2020.04.002-b.png  \n",
            "  inflating: Train/Covid/14d81f378173b86cc53f21d2d67040_jumbo.jpeg  \n",
            "  inflating: Train/Covid/19abe1f3.jpg  \n",
            "  inflating: Train/Covid/1B734A89-A1BF-49A8-A1D3-66FAFA4FAC5D.jpeg  \n",
            "  inflating: Train/Covid/1-s2.0-S0140673620303706-fx1_lrg.jpg  \n",
            "  inflating: Train/Covid/1-s2.0-S1684118220300608-main.pdf-001.jpg  \n",
            "  inflating: Train/Covid/1-s2.0-S1684118220300608-main.pdf-002.jpg  \n",
            "  inflating: Train/Covid/1-s2.0-S1684118220300682-main.pdf-002-a1.png  \n",
            "  inflating: Train/Covid/1-s2.0-S1684118220300682-main.pdf-002-a2.png  \n",
            "  inflating: Train/Covid/1-s2.0-S1684118220300682-main.pdf-003-b1.png  \n",
            "  inflating: Train/Covid/1-s2.0-S1684118220300682-main.pdf-003-b2.png  \n",
            "  inflating: Train/Covid/1-s2.0-S2214250920300834-gr1_lrg-b.png  \n",
            "  inflating: Train/Covid/1-s2.0-S2214250920300834-gr1_lrg-c.png  \n",
            "  inflating: Train/Covid/1-s2.0-S2387020620301959-gr4_lrg-b.png  \n",
            "  inflating: Train/Covid/1-s2.0-S2387020620301959-gr4_lrg-c.png  \n",
            "  inflating: Train/Covid/23E99E2E-447C-46E5-8EB2-D35D12473C39.png  \n",
            "  inflating: Train/Covid/2C26F453-AF3B-4517-BB9E-802CF2179543.jpeg  \n",
            "  inflating: Train/Covid/2cd63b76.jpg  \n",
            "  inflating: Train/Covid/2-chest-filmc.jpg  \n",
            "  inflating: Train/Covid/2edb88df42cab5e5fbc18b3965e0bd_jumbo.jpeg  \n",
            "  inflating: Train/Covid/3b46de94.jpg  \n",
            "  inflating: Train/Covid/48c4542c.jpg  \n",
            "  inflating: Train/Covid/4d98e1de.jpg  \n",
            "  inflating: Train/Covid/4e43e48d52c9e2d4c6c1fb9bc1544f_jumbo.jpeg  \n",
            "  inflating: Train/Covid/53EC07C9-5CC6-4BE4-9B6F-D7B0D72AAA7E.jpeg  \n",
            "  inflating: Train/Covid/58cb9263f16e94305c730685358e4e_jumbo.jpeg  \n",
            "  inflating: Train/Covid/5f619d7e.jpg  \n",
            "  inflating: Train/Covid/6b3bdbc31f65230b8cdcc3cef5f8ba8a-40ac-0.jpg  \n",
            "  inflating: Train/Covid/6b44464d-73a7-4cf3-bbb6-ffe7168300e3.annot.original.jpeg  \n",
            "  inflating: Train/Covid/6C94A287-C059-46A0-8600-AFB95F4727B7.jpeg  \n",
            "  inflating: Train/Covid/6CB4EFC6-68FA-4CD5-940C-BEFA8DAFE9A7.jpeg  \n",
            "  inflating: Train/Covid/7AF6C1AF-D249-4BD2-8C26-449304105D03.jpeg  \n",
            "  inflating: Train/Covid/7afaaccc.jpg  \n",
            "  inflating: Train/Covid/7C69C012-7479-493F-8722-ABC29C60A2DD.jpeg  \n",
            "  inflating: Train/Covid/7-fatal-covid19.jpg  \n",
            "  inflating: Train/Covid/80b5f00f.jpg  \n",
            "  inflating: Train/Covid/82a78c13.jpg  \n",
            "  inflating: Train/Covid/88de9d8c39e946abd495b37cd07d89e5-2ee6-0.jpg  \n",
            "  inflating: Train/Covid/88de9d8c39e946abd495b37cd07d89e5-6531-0.jpg  \n",
            "  inflating: Train/Covid/8da14fff.jpg  \n",
            "  inflating: Train/Covid/8fc103ca.jpg  \n",
            "  inflating: Train/Covid/8FDE8DBA-CFBD-4B4C-B1A4-6F36A93B7E87.jpeg  \n",
            "  inflating: Train/Covid/93FE0BB1-022D-4F24-9727-987A07975FFB.jpeg  \n",
            "  inflating: Train/Covid/9C34AF49-E589-44D5-92D3-168B3B04E4A6.jpeg  \n",
            "  inflating: Train/Covid/9fdd3c3032296fd04d2cad5d9070d4_jumbo.jpeg  \n",
            "  inflating: Train/Covid/ae6c954c0039de4b5edee53865ffee43-e6c8-0.jpg  \n",
            "  inflating: Train/Covid/all14238-fig-0001-m-b.jpg  \n",
            "  inflating: Train/Covid/all14238-fig-0001-m-c.jpg  \n",
            "  inflating: Train/Covid/AR-1.jpg    \n",
            "  inflating: Train/Covid/AR-2.jpg    \n",
            "  inflating: Train/Covid/article_river_e4d185c06e3511eaa2321d8ab357a1de-c1mn.png  \n",
            "  inflating: Train/Covid/auntminnie-a-2020_01_28_23_51_6665_2020_01_28_Vietnam_coronavirus.jpeg  \n",
            "  inflating: Train/Covid/auntminnie-b-2020_01_28_23_51_6665_2020_01_28_Vietnam_coronavirus.jpeg  \n",
            "  inflating: Train/Covid/auntminnie-c-2020_01_28_23_51_6665_2020_01_28_Vietnam_coronavirus.jpeg  \n",
            "  inflating: Train/Covid/auntminnie-d-2020_01_28_23_51_6665_2020_01_28_Vietnam_coronavirus.jpeg  \n",
            "  inflating: Train/Covid/b0f1684d1ee90dc09deef015e29dae_jumbo.jpeg  \n",
            "  inflating: Train/Covid/b9673e89.jpg  \n",
            "  inflating: Train/Covid/bb0e626a.jpg  \n",
            "  inflating: Train/Covid/bd10d5e2.jpg  \n",
            "  inflating: Train/Covid/BMJ-37-163-g1.jpg  \n",
            "  inflating: Train/Covid/c0f74558.jpg  \n",
            "  inflating: Train/Covid/c3829ecb.jpg  \n",
            "  inflating: Train/Covid/c601f50d.jpg  \n",
            "  inflating: Train/Covid/CD50BA96-6982-4C80-AE7B-5F67ACDBFA56.jpeg  \n",
            "  inflating: Train/Covid/ciaa199.pdf-001-a.png  \n",
            "  inflating: Train/Covid/ciaa199.pdf-001-b.png  \n",
            "  inflating: Train/Covid/covid-19-caso-70-1-PA.jpg  \n",
            "  inflating: Train/Covid/covid-19-caso-82-1-8.png  \n",
            "  inflating: Train/Covid/covid-19-caso-91-1-12.png  \n",
            "  inflating: Train/Covid/covid-19-caso-94-1-14.png  \n",
            "  inflating: Train/Covid/covid-19-caso-95-1-15.png  \n",
            "  inflating: Train/Covid/covid-19-caso-95-3-14.png  \n",
            "  inflating: Train/Covid/covid-19-infection-exclusive-gastrointestinal-symptoms-pa.png  \n",
            "  inflating: Train/Covid/covid-19-pneumonia-14-PA.png  \n",
            "  inflating: Train/Covid/covid-19-pneumonia-15-PA.jpg  \n",
            "  inflating: Train/Covid/covid-19-pneumonia-20.jpg  \n",
            "  inflating: Train/Covid/covid-19-pneumonia-20-pa-on-admission.jpg  \n",
            "  inflating: Train/Covid/covid-19-pneumonia-22-day1-pa.png  \n",
            "  inflating: Train/Covid/covid-19-pneumonia-22-day2-pa.png  \n",
            "  inflating: Train/Covid/covid-19-pneumonia-28.png  \n",
            "  inflating: Train/Covid/covid-19-pneumonia-30-PA.jpg  \n",
            "  inflating: Train/Covid/covid-19-pneumonia-35-1.jpg  \n",
            "  inflating: Train/Covid/covid-19-pneumonia-35-2.jpg  \n",
            "  inflating: Train/Covid/covid-19-pneumonia-38-pa.jpg  \n",
            "  inflating: Train/Covid/covid-19-pneumonia-44-day-0.jpeg  \n",
            "  inflating: Train/Covid/covid-19-pneumonia-53.jpg  \n",
            "  inflating: Train/Covid/covid-19-pneumonia-7-PA.jpg  \n",
            "  inflating: Train/Covid/covid-19-pneumonia-8.jpg  \n",
            "  inflating: Train/Covid/covid-19-pneumonia-93.png  \n",
            "  inflating: Train/Covid/covid-19-pneumonia-evolution-over-a-week-1-day0-PA.jpg  \n",
            "  inflating: Train/Covid/covid-19-pneumonia-mild.JPG  \n",
            "  inflating: Train/Covid/covid-19-pneumonia-rapidly-progressive-12-hours.jpg  \n",
            "  inflating: Train/Covid/covid-19-pneumonia-rapidly-progressive-3-days.jpg  \n",
            "  inflating: Train/Covid/covid-19-pneumonia-rapidly-progressive-admission.jpg  \n",
            "  inflating: Train/Covid/covid-19-rapidly-progressive-acute-respiratory-distress-syndrome-ards-admission.jpg  \n",
            "  inflating: Train/Covid/covid-19-rapidly-progressive-acute-respiratory-distress-syndrome-ards-day-1.jpg  \n",
            "  inflating: Train/Covid/covid-19-rapidly-progressive-acute-respiratory-distress-syndrome-ards-day-2.jpg  \n",
            "  inflating: Train/Covid/covid-19-rapidly-progressive-acute-respiratory-distress-syndrome-ards-day-3.jpg  \n",
            "  inflating: Train/Covid/d009d61f.jpg  \n",
            "  inflating: Train/Covid/d9d6ca9a.jpg  \n",
            "  inflating: Train/Covid/e1446fe8.jpg  \n",
            "  inflating: Train/Covid/E63574A7-4188-4C8D-8D17-9D67A18A1AFA.jpeg  \n",
            "  inflating: Train/Covid/ec083e35.jpg  \n",
            "  inflating: Train/Covid/extubation-1.jpg  \n",
            "  inflating: Train/Covid/extubation-13.jpg  \n",
            "  inflating: Train/Covid/extubation-4.jpg  \n",
            "  inflating: Train/Covid/extubation-8.jpg  \n",
            "  inflating: Train/Covid/F4341CE7-73C9-45C6-99C8-8567A5484B63.jpeg  \n",
            "  inflating: Train/Covid/f64132c8.jpg  \n",
            "  inflating: Train/Covid/f6575117.jpg  \n",
            "  inflating: Train/Covid/f6d980a0.jpg  \n",
            "  inflating: Train/Covid/f8335316.jpg  \n",
            "  inflating: Train/Covid/FE9F9A5D-2830-46F9-851B-1FF4534959BE.jpeg  \n",
            "  inflating: Train/Covid/fff49165-b22d-4bb4-b9d1-d5d62c52436c.annot.original.png  \n",
            "  inflating: Train/Covid/figure1-5e71be566aa8714a04de3386-98-left.jpeg  \n",
            "  inflating: Train/Covid/figure1-5e75d0940b71e1b702629659-98-right.jpeg  \n",
            "  inflating: Train/Covid/gr1_lrg-a.jpg  \n",
            "  inflating: Train/Covid/gr1_lrg-b.jpg  \n",
            "  inflating: Train/Covid/kjr-21-e25-g001-l-a.jpg  \n",
            "  inflating: Train/Covid/lancet-case2a.jpg  \n",
            "  inflating: Train/Covid/lancet-case2b.jpg  \n",
            "  inflating: Train/Covid/nCoV-radiol.2020200269.fig1-day7.jpeg  \n",
            "  inflating: Train/Covid/nejmc2001573_f1a.jpeg  \n",
            "  inflating: Train/Covid/nejmc2001573_f1b.jpeg  \n",
            "  inflating: Train/Covid/nejmoa2001191_f1-PA.jpeg  \n",
            "  inflating: Train/Covid/nejmoa2001191_f3-PA.jpeg  \n",
            "  inflating: Train/Covid/nejmoa2001191_f4.jpeg  \n",
            "  inflating: Train/Covid/nejmoa2001191_f5-PA.jpeg  \n",
            "  inflating: Train/Covid/paving.jpg  \n",
            "  inflating: Train/Covid/radiol.2020200274.fig3d.png  \n",
            "  inflating: Train/Covid/radiol.2020200490.fig3.jpeg  \n",
            "  inflating: Train/Covid/ryct.2020003.fig2-a.png  \n",
            "  inflating: Train/Covid/ryct.2020003.fig2-b.png  \n",
            "  inflating: Train/Covid/ryct.2020003.fig2-c.png  \n",
            "  inflating: Train/Covid/ryct.2020200028.fig1a.jpeg  \n",
            "  inflating: Train/Covid/ryct.2020200034.fig2.jpeg  \n",
            "  inflating: Train/Covid/ryct.2020200034.fig5-day0.jpeg  \n",
            "  inflating: Train/Covid/ryct.2020200034.fig5-day4.jpeg  \n",
            "  inflating: Train/Covid/ryct.2020200034.fig5-day7.jpeg  \n",
            "  inflating: Train/Covid/thnov10p5641g006-c.png  \n",
            "  inflating: Train/Covid/tpmd200203f2-b.png  \n",
            "  inflating: Train/Covid/tpmd200203f2-c.png  \n",
            "  inflating: Train/Covid/yxppt-2020-02-19_00-51-27_287214-day8.jpg  \n",
            "   creating: Train/Normal/\n",
            "  inflating: Train/Normal/IM-0115-0001.jpeg  \n",
            "  inflating: Train/Normal/IM-0117-0001.jpeg  \n",
            "  inflating: Train/Normal/IM-0119-0001.jpeg  \n",
            "  inflating: Train/Normal/IM-0122-0001.jpeg  \n",
            "  inflating: Train/Normal/IM-0125-0001.jpeg  \n",
            "  inflating: Train/Normal/IM-0127-0001.jpeg  \n",
            "  inflating: Train/Normal/IM-0128-0001.jpeg  \n",
            "  inflating: Train/Normal/IM-0129-0001.jpeg  \n",
            "  inflating: Train/Normal/IM-0131-0001.jpeg  \n",
            "  inflating: Train/Normal/IM-0133-0001.jpeg  \n",
            "  inflating: Train/Normal/IM-0135-0001.jpeg  \n",
            "  inflating: Train/Normal/IM-0137-0001.jpeg  \n",
            "  inflating: Train/Normal/IM-0140-0001.jpeg  \n",
            "  inflating: Train/Normal/IM-0141-0001.jpeg  \n",
            "  inflating: Train/Normal/IM-0143-0001.jpeg  \n",
            "  inflating: Train/Normal/IM-0145-0001.jpeg  \n",
            "  inflating: Train/Normal/IM-0147-0001.jpeg  \n",
            "  inflating: Train/Normal/IM-0149-0001.jpeg  \n",
            "  inflating: Train/Normal/IM-0151-0001.jpeg  \n",
            "  inflating: Train/Normal/IM-0152-0001.jpeg  \n",
            "  inflating: Train/Normal/IM-0154-0001.jpeg  \n",
            "  inflating: Train/Normal/IM-0156-0001.jpeg  \n",
            "  inflating: Train/Normal/IM-0158-0001.jpeg  \n",
            "  inflating: Train/Normal/IM-0160-0001.jpeg  \n",
            "  inflating: Train/Normal/IM-0162-0001.jpeg  \n",
            "  inflating: Train/Normal/IM-0164-0001.jpeg  \n",
            "  inflating: Train/Normal/IM-0166-0001.jpeg  \n",
            "  inflating: Train/Normal/IM-0168-0001.jpeg  \n",
            "  inflating: Train/Normal/IM-0170-0001.jpeg  \n",
            "  inflating: Train/Normal/IM-0172-0001.jpeg  \n",
            "  inflating: Train/Normal/IM-0176-0001.jpeg  \n",
            "  inflating: Train/Normal/IM-0177-0001.jpeg  \n",
            "  inflating: Train/Normal/IM-0178-0001.jpeg  \n",
            "  inflating: Train/Normal/IM-0180-0001.jpeg  \n",
            "  inflating: Train/Normal/IM-0182-0001.jpeg  \n",
            "  inflating: Train/Normal/IM-0183-0001.jpeg  \n",
            "  inflating: Train/Normal/IM-0185-0001.jpeg  \n",
            "  inflating: Train/Normal/IM-0187-0001.jpeg  \n",
            "  inflating: Train/Normal/IM-0189-0001.jpeg  \n",
            "  inflating: Train/Normal/IM-0191-0001.jpeg  \n",
            "  inflating: Train/Normal/IM-0193-0001.jpeg  \n",
            "  inflating: Train/Normal/IM-0195-0001.jpeg  \n",
            "  inflating: Train/Normal/IM-0199-0001.jpeg  \n",
            "  inflating: Train/Normal/IM-0201-0001.jpeg  \n",
            "  inflating: Train/Normal/IM-0203-0001.jpeg  \n",
            "  inflating: Train/Normal/IM-0205-0001.jpeg  \n",
            "  inflating: Train/Normal/IM-0206-0001.jpeg  \n",
            "  inflating: Train/Normal/IM-0207-0001.jpeg  \n",
            "  inflating: Train/Normal/IM-0209-0001.jpeg  \n",
            "  inflating: Train/Normal/IM-0210-0001.jpeg  \n",
            "  inflating: Train/Normal/IM-0211-0001.jpeg  \n",
            "  inflating: Train/Normal/IM-0213-0001.jpeg  \n",
            "  inflating: Train/Normal/IM-0214-0001.jpeg  \n",
            "  inflating: Train/Normal/IM-0215-0001.jpeg  \n",
            "  inflating: Train/Normal/IM-0216-0001.jpeg  \n",
            "  inflating: Train/Normal/IM-0217-0001.jpeg  \n",
            "  inflating: Train/Normal/IM-0218-0001.jpeg  \n",
            "  inflating: Train/Normal/IM-0219-0001.jpeg  \n",
            "  inflating: Train/Normal/IM-0220-0001.jpeg  \n",
            "  inflating: Train/Normal/IM-0221-0001.jpeg  \n",
            "  inflating: Train/Normal/IM-0222-0001.jpeg  \n",
            "  inflating: Train/Normal/IM-0223-0001.jpeg  \n",
            "  inflating: Train/Normal/IM-0224-0001.jpeg  \n",
            "  inflating: Train/Normal/IM-0225-0001.jpeg  \n",
            "  inflating: Train/Normal/IM-0226-0001.jpeg  \n",
            "  inflating: Train/Normal/IM-0227-0001.jpeg  \n",
            "  inflating: Train/Normal/IM-0228-0001.jpeg  \n",
            "  inflating: Train/Normal/IM-0229-0001.jpeg  \n",
            "  inflating: Train/Normal/IM-0283-0001.jpeg  \n",
            "  inflating: Train/Normal/IM-0285-0001.jpeg  \n",
            "  inflating: Train/Normal/IM-0286-0001.jpeg  \n",
            "  inflating: Train/Normal/IM-0288-0001.jpeg  \n",
            "  inflating: Train/Normal/IM-0289-0001.jpeg  \n",
            "  inflating: Train/Normal/IM-0290-0001.jpeg  \n",
            "  inflating: Train/Normal/IM-0291-0001.jpeg  \n",
            "  inflating: Train/Normal/IM-0292-0001.jpeg  \n",
            "  inflating: Train/Normal/IM-0293-0001.jpeg  \n",
            "  inflating: Train/Normal/IM-0294-0001.jpeg  \n",
            "  inflating: Train/Normal/IM-0295-0001.jpeg  \n",
            "  inflating: Train/Normal/IM-0297-0001.jpeg  \n",
            "  inflating: Train/Normal/IM-0298-0001.jpeg  \n",
            "  inflating: Train/Normal/IM-0299-0001.jpeg  \n",
            "  inflating: Train/Normal/IM-0300-0001.jpeg  \n",
            "  inflating: Train/Normal/IM-0301-0001.jpeg  \n",
            "  inflating: Train/Normal/IM-0302-0001.jpeg  \n",
            "  inflating: Train/Normal/IM-0303-0001.jpeg  \n",
            "  inflating: Train/Normal/IM-0304-0001.jpeg  \n",
            "  inflating: Train/Normal/IM-0305-0001.jpeg  \n",
            "  inflating: Train/Normal/IM-0306-0001.jpeg  \n",
            "  inflating: Train/Normal/IM-0307-0001.jpeg  \n",
            "  inflating: Train/Normal/IM-0308-0001.jpeg  \n",
            "  inflating: Train/Normal/IM-0309-0001.jpeg  \n",
            "  inflating: Train/Normal/IM-0311-0001.jpeg  \n",
            "  inflating: Train/Normal/IM-0312-0001.jpeg  \n",
            "  inflating: Train/Normal/IM-0313-0001.jpeg  \n",
            "  inflating: Train/Normal/IM-0314-0001.jpeg  \n",
            "  inflating: Train/Normal/IM-0315-0001.jpeg  \n",
            "  inflating: Train/Normal/IM-0316-0001.jpeg  \n",
            "  inflating: Train/Normal/IM-0317-0001.jpeg  \n",
            "  inflating: Train/Normal/IM-0318-0001.jpeg  \n",
            "  inflating: Train/Normal/IM-0319-0001.jpeg  \n",
            "  inflating: Train/Normal/IM-0320-0001.jpeg  \n",
            "  inflating: Train/Normal/IM-0323-0001.jpeg  \n",
            "  inflating: Train/Normal/IM-0324-0001.jpeg  \n",
            "  inflating: Train/Normal/IM-0325-0001.jpeg  \n",
            "  inflating: Train/Normal/IM-0326-0001.jpeg  \n",
            "  inflating: Train/Normal/IM-0327-0001.jpeg  \n",
            "  inflating: Train/Normal/IM-0329-0001.jpeg  \n",
            "  inflating: Train/Normal/IM-0330-0001.jpeg  \n",
            "  inflating: Train/Normal/IM-0331-0001.jpeg  \n",
            "  inflating: Train/Normal/IM-0332-0001.jpeg  \n",
            "  inflating: Train/Normal/IM-0333-0001.jpeg  \n",
            "  inflating: Train/Normal/IM-0335-0001.jpeg  \n",
            "  inflating: Train/Normal/IM-0337-0001.jpeg  \n",
            "  inflating: Train/Normal/IM-0338-0001.jpeg  \n",
            "  inflating: Train/Normal/IM-0339-0001.jpeg  \n",
            "  inflating: Train/Normal/IM-0340-0001.jpeg  \n",
            "  inflating: Train/Normal/IM-0341-0001.jpeg  \n",
            "  inflating: Train/Normal/IM-0343-0001.jpeg  \n",
            "  inflating: Train/Normal/IM-0345-0001.jpeg  \n",
            "  inflating: Train/Normal/IM-0346-0001.jpeg  \n",
            "  inflating: Train/Normal/IM-0347-0001.jpeg  \n",
            "  inflating: Train/Normal/IM-0348-0001.jpeg  \n",
            "  inflating: Train/Normal/IM-0349-0001.jpeg  \n",
            "  inflating: Train/Normal/IM-0350-0001.jpeg  \n",
            "  inflating: Train/Normal/IM-0351-0001.jpeg  \n",
            "  inflating: Train/Normal/IM-0353-0001.jpeg  \n",
            "  inflating: Train/Normal/IM-0354-0001.jpeg  \n",
            "  inflating: Train/Normal/IM-0355-0001.jpeg  \n",
            "  inflating: Train/Normal/IM-0356-0001.jpeg  \n",
            "  inflating: Train/Normal/IM-0357-0001.jpeg  \n",
            "  inflating: Train/Normal/IM-0358-0001.jpeg  \n",
            "  inflating: Train/Normal/IM-0359-0001.jpeg  \n",
            "  inflating: Train/Normal/IM-0361-0001.jpeg  \n",
            "  inflating: Train/Normal/IM-0362-0001.jpeg  \n",
            "  inflating: Train/Normal/IM-0363-0001.jpeg  \n",
            "  inflating: Train/Normal/IM-0364-0001.jpeg  \n",
            "  inflating: Train/Normal/IM-0365-0001.jpeg  \n",
            "  inflating: Train/Normal/IM-0367-0001.jpeg  \n",
            "  inflating: Train/Normal/IM-0368-0001.jpeg  \n",
            "  inflating: Train/Normal/IM-0369-0001.jpeg  \n",
            "  inflating: Train/Normal/IM-0370-0001.jpeg  \n",
            "  inflating: Train/Normal/IM-0371-0001.jpeg  \n",
            "  inflating: Train/Normal/IM-0372-0001.jpeg  \n",
            "  inflating: Train/Normal/IM-0374-0001.jpeg  \n",
            "  inflating: Train/Normal/IM-0375-0001.jpeg  \n",
            "  inflating: Train/Normal/IM-0377-0001.jpeg  \n",
            "  inflating: Train/Normal/IM-0379-0001.jpeg  \n",
            "  inflating: Train/Normal/IM-0381-0001.jpeg  \n",
            "  inflating: Train/Normal/IM-0382-0001.jpeg  \n",
            "  inflating: Train/Normal/IM-0383-0001.jpeg  \n",
            "  inflating: Train/Normal/IM-0384-0001.jpeg  \n",
            "  inflating: Train/Normal/IM-0385-0001.jpeg  \n",
            "  inflating: Train/Normal/IM-0386-0001.jpeg  \n",
            "  inflating: Train/Normal/IM-0387-0001.jpeg  \n",
            "  inflating: Train/Normal/IM-0388-0001.jpeg  \n"
          ],
          "name": "stdout"
        }
      ]
    },
    {
      "cell_type": "code",
      "metadata": {
        "id": "IcB-KwdTEsgj"
      },
      "source": [
        "Training_Path = \"/content/Train\"\n",
        "Val_Path = \"/content/Test\""
      ],
      "execution_count": null,
      "outputs": []
    },
    {
      "cell_type": "code",
      "metadata": {
        "id": "CFI0Ja_NFmTO"
      },
      "source": [
        "import numpy as np\n",
        "import matplotlib.pyplot as plt\n",
        "import keras\n",
        "from keras.layers import *\n",
        "from keras.models import *\n",
        "from keras.preprocessing import image"
      ],
      "execution_count": null,
      "outputs": []
    },
    {
      "cell_type": "code",
      "metadata": {
        "id": "h7tJf1P7GHug"
      },
      "source": [
        "#CNN bades model in keras\n",
        "\n",
        "model = Sequential()\n",
        "#here we are using RGB images\n",
        "#32 features or 32 filters extractors, input size= reshapping the image\n",
        "#here we stack the two layers of 3*3 over each other, adding two layers can increase the non linearity\n",
        "\n",
        "model.add(Conv2D(32,kernel_size=(3,3),activation='relu',input_shape=(224,224,3)))\n",
        "\n",
        "model.add(Conv2D(64,(3,3),activation='relu'))\n",
        "model.add(MaxPooling2D(pool_size=(2,2)))\n",
        "#dropout to find overfitting\n",
        "model.add(Dropout(0.25))\n",
        "\n",
        "#as i go deep into the layers i have increase the numnber of filters and increase the channels\n",
        "#this increase of filters are needed to observe details of the features\n",
        "\n",
        "\n",
        "model.add(Conv2D(64,(3,3),activation='relu'))\n",
        "model.add(MaxPooling2D(pool_size=(2,2)))\n",
        "#dropout to find overfitting\n",
        "model.add(Dropout(0.25))\n",
        "\n",
        "model.add(Conv2D(128,(3,3),activation='relu'))\n",
        "model.add(MaxPooling2D(pool_size=(2,2)))\n",
        "#dropout to find overfitting\n",
        "model.add(Dropout(0.25))\n",
        "\n",
        "model.add(Flatten())\n",
        "model.add(Dense(64,activation='relu'))\n",
        "model.add(Dropout(0.5))\n",
        "\n",
        "model.add(Dense(1,activation='sigmoid'))\n",
        "\n",
        "#optimizer = gradeient descent \n",
        "model.compile(loss=keras.losses.binary_crossentropy, optimizer='adam',metrics=['accuracy'])\n"
      ],
      "execution_count": null,
      "outputs": []
    },
    {
      "cell_type": "code",
      "metadata": {
        "colab": {
          "base_uri": "https://localhost:8080/"
        },
        "id": "3RSIU4pOMJnE",
        "outputId": "4a0e9154-f4ef-4f0c-b92b-41d65cb8a624"
      },
      "source": [
        "model.summary()"
      ],
      "execution_count": null,
      "outputs": [
        {
          "output_type": "stream",
          "text": [
            "Model: \"sequential\"\n",
            "_________________________________________________________________\n",
            "Layer (type)                 Output Shape              Param #   \n",
            "=================================================================\n",
            "conv2d (Conv2D)              (None, 222, 222, 32)      896       \n",
            "_________________________________________________________________\n",
            "conv2d_1 (Conv2D)            (None, 220, 220, 64)      18496     \n",
            "_________________________________________________________________\n",
            "max_pooling2d (MaxPooling2D) (None, 110, 110, 64)      0         \n",
            "_________________________________________________________________\n",
            "dropout (Dropout)            (None, 110, 110, 64)      0         \n",
            "_________________________________________________________________\n",
            "conv2d_2 (Conv2D)            (None, 108, 108, 64)      36928     \n",
            "_________________________________________________________________\n",
            "max_pooling2d_1 (MaxPooling2 (None, 54, 54, 64)        0         \n",
            "_________________________________________________________________\n",
            "dropout_1 (Dropout)          (None, 54, 54, 64)        0         \n",
            "_________________________________________________________________\n",
            "conv2d_3 (Conv2D)            (None, 52, 52, 128)       73856     \n",
            "_________________________________________________________________\n",
            "max_pooling2d_2 (MaxPooling2 (None, 26, 26, 128)       0         \n",
            "_________________________________________________________________\n",
            "dropout_2 (Dropout)          (None, 26, 26, 128)       0         \n",
            "_________________________________________________________________\n",
            "flatten (Flatten)            (None, 86528)             0         \n",
            "_________________________________________________________________\n",
            "dense (Dense)                (None, 64)                5537856   \n",
            "_________________________________________________________________\n",
            "dropout_3 (Dropout)          (None, 64)                0         \n",
            "_________________________________________________________________\n",
            "dense_1 (Dense)              (None, 1)                 65        \n",
            "=================================================================\n",
            "Total params: 5,668,097\n",
            "Trainable params: 5,668,097\n",
            "Non-trainable params: 0\n",
            "_________________________________________________________________\n"
          ],
          "name": "stdout"
        }
      ]
    },
    {
      "cell_type": "code",
      "metadata": {
        "id": "w3pS4Mb9MTWG"
      },
      "source": [
        "#train from scratch\n",
        "#train_data_generator\n",
        "#dividing the alues of pixels by 255, so that we normalize the values and the weights can be small in NN\n",
        "\n",
        "train_datagen = image.ImageDataGenerator(\n",
        "    rescale = 1./255,\n",
        "    shear_range = 0.2,\n",
        "    zoom_range = 0.2,\n",
        "    horizontal_flip =True,\n",
        ")\n",
        "\n",
        "test_dataset = image.ImageDataGenerator(rescale=1./255)"
      ],
      "execution_count": null,
      "outputs": []
    },
    {
      "cell_type": "code",
      "metadata": {
        "colab": {
          "base_uri": "https://localhost:8080/"
        },
        "id": "ruriPGyKNtz8",
        "outputId": "3de2d331-8206-4093-8882-1b83c6ddab8f"
      },
      "source": [
        "#method of train_datagen\n",
        "#here all the images are converted into 224*224\n",
        "\n",
        "train_generator = train_datagen.flow_from_directory(\n",
        "    '/content/Train',\n",
        "    target_size = (224,224),\n",
        "    batch_size = 32,\n",
        "    class_mode = 'binary'\n",
        ")"
      ],
      "execution_count": null,
      "outputs": [
        {
          "output_type": "stream",
          "text": [
            "Found 312 images belonging to 2 classes.\n"
          ],
          "name": "stdout"
        }
      ]
    },
    {
      "cell_type": "code",
      "metadata": {
        "colab": {
          "base_uri": "https://localhost:8080/"
        },
        "id": "A7kRjyxGO2OZ",
        "outputId": "264bb616-4cbe-4ce9-be3c-c11c88bef093"
      },
      "source": [
        "train_generator.class_indices"
      ],
      "execution_count": null,
      "outputs": [
        {
          "output_type": "execute_result",
          "data": {
            "text/plain": [
              "{'Covid': 0, 'Normal': 1}"
            ]
          },
          "metadata": {
            "tags": []
          },
          "execution_count": 8
        }
      ]
    },
    {
      "cell_type": "code",
      "metadata": {
        "colab": {
          "base_uri": "https://localhost:8080/"
        },
        "id": "40-E-IURP7vQ",
        "outputId": "c6888eba-62ce-4efa-9721-85d3080a41dc"
      },
      "source": [
        "validation_generator = test_dataset.flow_from_directory(\n",
        "    '/content/Test',\n",
        "    target_size = (224,224),\n",
        "    batch_size = 32,\n",
        "    class_mode = 'binary'\n",
        ")"
      ],
      "execution_count": null,
      "outputs": [
        {
          "output_type": "stream",
          "text": [
            "Found 80 images belonging to 2 classes.\n"
          ],
          "name": "stdout"
        }
      ]
    },
    {
      "cell_type": "code",
      "metadata": {
        "colab": {
          "base_uri": "https://localhost:8080/"
        },
        "id": "5VDxX0XSQ9FI",
        "outputId": "a5c9832a-3049-442a-9490-d9b3cbb4b763"
      },
      "source": [
        "history = model.fit_generator(\n",
        "    train_generator,\n",
        "    steps_per_epoch=8,\n",
        "    epochs=10,\n",
        "    validation_data = validation_generator,\n",
        "    validation_steps=2\n",
        ")"
      ],
      "execution_count": null,
      "outputs": [
        {
          "output_type": "stream",
          "text": [
            "/usr/local/lib/python3.7/dist-packages/keras/engine/training.py:1915: UserWarning: `Model.fit_generator` is deprecated and will be removed in a future version. Please use `Model.fit`, which supports generators.\n",
            "  warnings.warn('`Model.fit_generator` is deprecated and '\n"
          ],
          "name": "stderr"
        },
        {
          "output_type": "stream",
          "text": [
            "Epoch 1/10\n",
            "8/8 [==============================] - 54s 1s/step - loss: 0.7788 - accuracy: 0.5401 - val_loss: 0.6682 - val_accuracy: 0.6562\n",
            "Epoch 2/10\n",
            "8/8 [==============================] - 10s 1s/step - loss: 0.6153 - accuracy: 0.6068 - val_loss: 0.4652 - val_accuracy: 0.9531\n",
            "Epoch 3/10\n",
            "8/8 [==============================] - 9s 1s/step - loss: 0.3430 - accuracy: 0.8682 - val_loss: 0.2321 - val_accuracy: 1.0000\n",
            "Epoch 4/10\n",
            "8/8 [==============================] - 9s 1s/step - loss: 0.2766 - accuracy: 0.8945 - val_loss: 0.1457 - val_accuracy: 0.9844\n",
            "Epoch 5/10\n",
            "8/8 [==============================] - 9s 1s/step - loss: 0.2874 - accuracy: 0.8960 - val_loss: 0.1477 - val_accuracy: 0.9844\n",
            "Epoch 6/10\n",
            "8/8 [==============================] - 9s 1s/step - loss: 0.2084 - accuracy: 0.9260 - val_loss: 0.1818 - val_accuracy: 0.9688\n",
            "Epoch 7/10\n",
            "8/8 [==============================] - 9s 1s/step - loss: 0.2236 - accuracy: 0.9272 - val_loss: 0.1241 - val_accuracy: 0.9844\n",
            "Epoch 8/10\n",
            "8/8 [==============================] - 9s 1s/step - loss: 0.1201 - accuracy: 0.9536 - val_loss: 0.0503 - val_accuracy: 1.0000\n",
            "Epoch 9/10\n",
            "8/8 [==============================] - 9s 1s/step - loss: 0.0782 - accuracy: 0.9687 - val_loss: 0.0638 - val_accuracy: 0.9688\n",
            "Epoch 10/10\n",
            "8/8 [==============================] - 9s 1s/step - loss: 0.0906 - accuracy: 0.9645 - val_loss: 0.0774 - val_accuracy: 0.9844\n"
          ],
          "name": "stdout"
        }
      ]
    },
    {
      "cell_type": "code",
      "metadata": {
        "colab": {
          "base_uri": "https://localhost:8080/"
        },
        "id": "vfAMH5O1G8lV",
        "outputId": "9ac1491a-0fed-4320-fb68-dabba0ca4b62"
      },
      "source": [
        "model.evaluate_generator(train_generator)"
      ],
      "execution_count": null,
      "outputs": [
        {
          "output_type": "stream",
          "text": [
            "/usr/local/lib/python3.7/dist-packages/keras/engine/training.py:1948: UserWarning: `Model.evaluate_generator` is deprecated and will be removed in a future version. Please use `Model.evaluate`, which supports generators.\n",
            "  warnings.warn('`Model.evaluate_generator` is deprecated and '\n"
          ],
          "name": "stderr"
        },
        {
          "output_type": "execute_result",
          "data": {
            "text/plain": [
              "[0.0764155387878418, 0.9743589758872986]"
            ]
          },
          "metadata": {
            "tags": []
          },
          "execution_count": 11
        }
      ]
    },
    {
      "cell_type": "code",
      "metadata": {
        "colab": {
          "base_uri": "https://localhost:8080/"
        },
        "id": "FB4iNNv4G8qw",
        "outputId": "54393ba1-4777-4d29-a7ed-ed4001b24010"
      },
      "source": [
        "model.evaluate_generator(validation_generator)"
      ],
      "execution_count": null,
      "outputs": [
        {
          "output_type": "stream",
          "text": [
            "/usr/local/lib/python3.7/dist-packages/keras/engine/training.py:1948: UserWarning: `Model.evaluate_generator` is deprecated and will be removed in a future version. Please use `Model.evaluate`, which supports generators.\n",
            "  warnings.warn('`Model.evaluate_generator` is deprecated and '\n"
          ],
          "name": "stderr"
        },
        {
          "output_type": "execute_result",
          "data": {
            "text/plain": [
              "[0.10070866346359253, 0.9750000238418579]"
            ]
          },
          "metadata": {
            "tags": []
          },
          "execution_count": 12
        }
      ]
    },
    {
      "cell_type": "code",
      "metadata": {
        "colab": {
          "base_uri": "https://localhost:8080/"
        },
        "id": "I2P7lm20C36k",
        "outputId": "3eaff56c-f824-497f-b490-78ef5cd97641"
      },
      "source": [
        "path=\"/content/Test/Normal/IM-0237-0001.jpeg\"\n",
        "img=image.load_img(path,target_size=(224,224))\n",
        "img = image.img_to_array(img)\n",
        "img=np.expand_dims(img,axis=0)\n",
        "p = model.predict_classes(img)\n",
        "print(p)"
      ],
      "execution_count": null,
      "outputs": [
        {
          "output_type": "stream",
          "text": [
            "/usr/local/lib/python3.7/dist-packages/keras/engine/sequential.py:450: UserWarning: `model.predict_classes()` is deprecated and will be removed after 2021-01-01. Please use instead:* `np.argmax(model.predict(x), axis=-1)`,   if your model does multi-class classification   (e.g. if it uses a `softmax` last-layer activation).* `(model.predict(x) > 0.5).astype(\"int32\")`,   if your model does binary classification   (e.g. if it uses a `sigmoid` last-layer activation).\n",
            "  warnings.warn('`model.predict_classes()` is deprecated and '\n"
          ],
          "name": "stderr"
        },
        {
          "output_type": "stream",
          "text": [
            "[[1]]\n"
          ],
          "name": "stdout"
        }
      ]
    },
    {
      "cell_type": "code",
      "metadata": {
        "id": "4quh4IrqxW2I"
      },
      "source": [
        "model.save(\"covidDetector.h5\")"
      ],
      "execution_count": null,
      "outputs": []
    },
    {
      "cell_type": "code",
      "metadata": {
        "id": "ZYX4ThbhYiVL",
        "colab": {
          "base_uri": "https://localhost:8080/"
        },
        "outputId": "3e5fe0dc-8410-46d8-cef2-9506d80bbf23"
      },
      "source": [
        "import tensorflow as tf\n",
        "from tensorflow import lite\n",
        "from keras.models import load_model\n",
        "\n",
        "and_model = load_model(\"/content/covidDetector.h5\")\n",
        "\n",
        "converter = lite.TFLiteConverter.from_keras_model(and_model)\n",
        "\n",
        "tfmodel = converter.convert()\n",
        "open('ModelTF.tflite','wb').write(tfmodel)"
      ],
      "execution_count": null,
      "outputs": [
        {
          "output_type": "stream",
          "text": [
            "INFO:tensorflow:Assets written to: /tmp/tmpyppqpt0w/assets\n"
          ],
          "name": "stdout"
        },
        {
          "output_type": "stream",
          "text": [
            "INFO:tensorflow:Assets written to: /tmp/tmpyppqpt0w/assets\n"
          ],
          "name": "stderr"
        },
        {
          "output_type": "execute_result",
          "data": {
            "text/plain": [
              "22675980"
            ]
          },
          "metadata": {
            "tags": []
          },
          "execution_count": 21
        }
      ]
    }
  ]
}